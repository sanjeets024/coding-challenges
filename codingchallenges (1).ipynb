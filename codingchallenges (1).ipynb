{
 "cells": [
  {
   "cell_type": "markdown",
   "id": "57b7c68b",
   "metadata": {},
   "source": [
    "## Challenge 1 - Function Basics\n",
    "Write a Python function named 'sum_even_numbers' that takes a list of numbers as input\n",
    "and returns the sum of all the even numbers in the list."
   ]
  },
  {
   "cell_type": "code",
   "execution_count": 4,
   "id": "f619007a",
   "metadata": {},
   "outputs": [
    {
     "name": "stdout",
     "output_type": "stream",
     "text": [
      "Sum of even numbers is  42\n"
     ]
    }
   ],
   "source": [
    "#defining the sum_even_numbers function\n",
    "def sum_even_numbers(num):\n",
    "    # Initialize a variable to store the sum of even numbers\n",
    "    sum_of_even = 0\n",
    "    \n",
    "#for loop for checking and adding every number that is even\n",
    "    for number in num:\n",
    "#to check if the number is even\n",
    "        if number % 2 == 0:\n",
    "#adds every even number to the sum \n",
    "            sum_of_even += number\n",
    "    \n",
    "    return sum_of_even\n",
    "\n",
    "#input list of numbers\n",
    "list1 = [10,15,91,29,32]\n",
    "sum1 = sum_even_numbers(list1)\n",
    "print(\"Sum of even numbers is \", sum1)\n"
   ]
  },
  {
   "cell_type": "markdown",
   "id": "2adbc6ca",
   "metadata": {},
   "source": [
    "## Challenge 2 - Class Implementation\n",
    "Create a Python class called 'Rectangle' with methods to calculate its area and perimeter.\n",
    "Include a constructor that initializes the length and width."
   ]
  },
  {
   "cell_type": "code",
   "execution_count": 16,
   "id": "e981f9b4",
   "metadata": {},
   "outputs": [
    {
     "name": "stdout",
     "output_type": "stream",
     "text": [
      "Rectangle with length is 5 and width is 3:\n",
      "Area: 15\n",
      "Perimeter: 16\n"
     ]
    }
   ],
   "source": [
    "#defining the class rectangle and constructor that initialises length and width \n",
    "class Rectangle:\n",
    "    def __init__(self, l, w):\n",
    "        self.length = l\n",
    "        self.width = w\n",
    "\n",
    "    def rectangle_area(self):\n",
    "#to calculate the area of rectangle\n",
    "        area = self.length * self.width\n",
    "        return area\n",
    "#to calculate the perimeter of rectangle\n",
    "    def rectangle_perimeter(self):\n",
    "        perimeter = 2 * (self.length + self.width)\n",
    "        return perimeter\n",
    "\n",
    "#input length and width of rect\n",
    "l = 5\n",
    "w = 3\n",
    "rectangle = Rectangle(l, w)\n",
    "\n",
    "area = rectangle.rectangle_area()\n",
    "perimeter = rectangle.rectangle_perimeter()\n",
    "\n",
    "print(f\"Rectangle with length is {length} and width is {width}:\")\n",
    "print(f\"Area: {area}\")\n",
    "print(f\"Perimeter: {perimeter}\")\n"
   ]
  },
  {
   "cell_type": "markdown",
   "id": "91110749",
   "metadata": {},
   "source": [
    "## Challenge 3 - Decorators\n",
    "Write a Python decorator called 'log_time' that logs the time taken by a function to execute.\n",
    "Apply this decorator to a sample function and demonstrate its usage."
   ]
  },
  {
   "cell_type": "code",
   "execution_count": 64,
   "id": "627b5626",
   "metadata": {},
   "outputs": [],
   "source": [
    "import time \n",
    "def f1(func):\n",
    "    def wrapper(*args, **kwargs):\n",
    "        t1=time.time()\n",
    "        func(*args, **kwargs)\n",
    "        t2=time.time()-t1\n",
    "        print(f\"(func.__name__) ran in '\\f'{t2} seconds\" )\n",
    "        \n",
    "        return wrapper\n",
    "    \n",
    "        \n",
    "       \n",
    "        \n",
    "          \n",
    "        "
   ]
  },
  {
   "cell_type": "code",
   "execution_count": 67,
   "id": "725e0fa4",
   "metadata": {},
   "outputs": [],
   "source": [
    "@f1\n",
    "def do_this():\n",
    "    \n",
    "    time.sleep(2)\n",
    "    do_this()\n",
    "    \n",
    "@f1\n",
    "def do_that():\n",
    "    time.sleep(0.5)\n",
    "    do_that() \n",
    "    print(\"done\")\n",
    "    \n",
    "    "
   ]
  },
  {
   "cell_type": "code",
   "execution_count": 60,
   "id": "84bd74ff",
   "metadata": {},
   "outputs": [
    {
     "ename": "TypeError",
     "evalue": "'NoneType' object is not callable",
     "output_type": "error",
     "traceback": [
      "\u001b[1;31m---------------------------------------------------------------------------\u001b[0m",
      "\u001b[1;31mTypeError\u001b[0m                                 Traceback (most recent call last)",
      "Input \u001b[1;32mIn [60]\u001b[0m, in \u001b[0;36m<cell line: 1>\u001b[1;34m()\u001b[0m\n\u001b[1;32m----> 1\u001b[0m \u001b[43mdo_this\u001b[49m\u001b[43m(\u001b[49m\u001b[43m)\u001b[49m\n\u001b[0;32m      2\u001b[0m do_that()\n\u001b[0;32m      3\u001b[0m \u001b[38;5;28mprint\u001b[39m(\u001b[38;5;124m\"\u001b[39m\u001b[38;5;124mDone\u001b[39m\u001b[38;5;124m\"\u001b[39m)\n",
      "\u001b[1;31mTypeError\u001b[0m: 'NoneType' object is not callable"
     ]
    }
   ],
   "source": [
    "\n"
   ]
  },
  {
   "cell_type": "markdown",
   "id": "19887e56",
   "metadata": {},
   "source": [
    "## Challenge 4 - Recursive Function\n",
    "Build a recursive Python function named 'calculate_factorial' to calculate the factorial of a\n",
    "positive integer.\n",
    "\n"
   ]
  },
  {
   "cell_type": "code",
   "execution_count": 2,
   "id": "09a160c1",
   "metadata": {},
   "outputs": [
    {
     "name": "stdout",
     "output_type": "stream",
     "text": [
      "The factorial of 7 is 5040\n"
     ]
    }
   ],
   "source": [
    "def calculate_factorial(n):\n",
    "#the factorial of 0 and 1 is 1 \n",
    "    if n == 0 or n == 1:\n",
    "        return 1\n",
    "#multiplying the number n by (n-1) and so on to calculate the factorial\n",
    "    else:\n",
    "        return n * calculate_factorial(n - 1)\n",
    "\n",
    "#input the number\n",
    "n = 7\n",
    "result = calculate_factorial(n)\n",
    "print(f\"The factorial of {n} is {result}\")\n"
   ]
  },
  {
   "cell_type": "markdown",
   "id": "62b5dbd1",
   "metadata": {},
   "source": [
    "## Challenge 5 - File Handling and Functions\n",
    "Develop a Python program that reads a CSV file containing student names and scores,\n",
    "calculates the average score, and prints the names of students who scored above the\n",
    "average."
   ]
  },
  {
   "cell_type": "code",
   "execution_count": 92,
   "id": "94708921",
   "metadata": {},
   "outputs": [
    {
     "data": {
      "text/html": [
       "<div>\n",
       "<style scoped>\n",
       "    .dataframe tbody tr th:only-of-type {\n",
       "        vertical-align: middle;\n",
       "    }\n",
       "\n",
       "    .dataframe tbody tr th {\n",
       "        vertical-align: top;\n",
       "    }\n",
       "\n",
       "    .dataframe thead th {\n",
       "        text-align: right;\n",
       "    }\n",
       "</style>\n",
       "<table border=\"1\" class=\"dataframe\">\n",
       "  <thead>\n",
       "    <tr style=\"text-align: right;\">\n",
       "      <th></th>\n",
       "      <th>Name</th>\n",
       "      <th>Score</th>\n",
       "    </tr>\n",
       "  </thead>\n",
       "  <tbody>\n",
       "    <tr>\n",
       "      <th>0</th>\n",
       "      <td>Mira Ahmed</td>\n",
       "      <td>46</td>\n",
       "    </tr>\n",
       "    <tr>\n",
       "      <th>1</th>\n",
       "      <td>Harry Zimmerman</td>\n",
       "      <td>63</td>\n",
       "    </tr>\n",
       "    <tr>\n",
       "      <th>2</th>\n",
       "      <td>Ariyah Charles</td>\n",
       "      <td>62</td>\n",
       "    </tr>\n",
       "    <tr>\n",
       "      <th>3</th>\n",
       "      <td>Conrad Roman</td>\n",
       "      <td>25</td>\n",
       "    </tr>\n",
       "    <tr>\n",
       "      <th>4</th>\n",
       "      <td>Astrid David</td>\n",
       "      <td>50</td>\n",
       "    </tr>\n",
       "    <tr>\n",
       "      <th>5</th>\n",
       "      <td>Alonso Hodges</td>\n",
       "      <td>76</td>\n",
       "    </tr>\n",
       "    <tr>\n",
       "      <th>6</th>\n",
       "      <td>Eve Schwartz</td>\n",
       "      <td>91</td>\n",
       "    </tr>\n",
       "    <tr>\n",
       "      <th>7</th>\n",
       "      <td>Edwin Dickerson</td>\n",
       "      <td>73</td>\n",
       "    </tr>\n",
       "    <tr>\n",
       "      <th>8</th>\n",
       "      <td>Opal Lynn</td>\n",
       "      <td>2</td>\n",
       "    </tr>\n",
       "    <tr>\n",
       "      <th>9</th>\n",
       "      <td>Zechariah Saunders</td>\n",
       "      <td>24</td>\n",
       "    </tr>\n",
       "    <tr>\n",
       "      <th>10</th>\n",
       "      <td>Meadow Gilmore</td>\n",
       "      <td>32</td>\n",
       "    </tr>\n",
       "    <tr>\n",
       "      <th>11</th>\n",
       "      <td>Vihaan Macias</td>\n",
       "      <td>62</td>\n",
       "    </tr>\n",
       "    <tr>\n",
       "      <th>12</th>\n",
       "      <td>Adley Mahoney</td>\n",
       "      <td>12</td>\n",
       "    </tr>\n",
       "    <tr>\n",
       "      <th>13</th>\n",
       "      <td>Kamryn James</td>\n",
       "      <td>46</td>\n",
       "    </tr>\n",
       "    <tr>\n",
       "      <th>14</th>\n",
       "      <td>Quinn Goodman</td>\n",
       "      <td>32</td>\n",
       "    </tr>\n",
       "    <tr>\n",
       "      <th>15</th>\n",
       "      <td>Philip Nichols</td>\n",
       "      <td>74</td>\n",
       "    </tr>\n",
       "    <tr>\n",
       "      <th>16</th>\n",
       "      <td>Aliyah Stevenson</td>\n",
       "      <td>74</td>\n",
       "    </tr>\n",
       "    <tr>\n",
       "      <th>17</th>\n",
       "      <td>Callan Mitchell</td>\n",
       "      <td>30</td>\n",
       "    </tr>\n",
       "    <tr>\n",
       "      <th>18</th>\n",
       "      <td>Willow Delacruz</td>\n",
       "      <td>79</td>\n",
       "    </tr>\n",
       "  </tbody>\n",
       "</table>\n",
       "</div>"
      ],
      "text/plain": [
       "                  Name  Score\n",
       "0           Mira Ahmed     46\n",
       "1      Harry Zimmerman     63\n",
       "2       Ariyah Charles     62\n",
       "3         Conrad Roman     25\n",
       "4         Astrid David     50\n",
       "5        Alonso Hodges     76\n",
       "6         Eve Schwartz     91\n",
       "7      Edwin Dickerson     73\n",
       "8            Opal Lynn      2\n",
       "9   Zechariah Saunders     24\n",
       "10      Meadow Gilmore     32\n",
       "11       Vihaan Macias     62\n",
       "12       Adley Mahoney     12\n",
       "13        Kamryn James     46\n",
       "14       Quinn Goodman     32\n",
       "15      Philip Nichols     74\n",
       "16    Aliyah Stevenson     74\n",
       "17     Callan Mitchell     30\n",
       "18     Willow Delacruz     79"
      ]
     },
     "execution_count": 92,
     "metadata": {},
     "output_type": "execute_result"
    }
   ],
   "source": [
    "#the csv file is created using random name generator for names and randbetween function for scores\n",
    "import pandas as pd\n",
    "import csv\n",
    "data1=pd.read_csv(\"namesandscores.csv\")\n",
    "data1"
   ]
  },
  {
   "cell_type": "code",
   "execution_count": 111,
   "id": "73f4bfa8",
   "metadata": {},
   "outputs": [
    {
     "data": {
      "text/plain": [
       "0     46\n",
       "1     63\n",
       "2     62\n",
       "3     25\n",
       "4     50\n",
       "5     76\n",
       "6     91\n",
       "7     73\n",
       "8      2\n",
       "9     24\n",
       "10    32\n",
       "11    62\n",
       "12    12\n",
       "13    46\n",
       "14    32\n",
       "15    74\n",
       "16    74\n",
       "17    30\n",
       "18    79\n",
       "Name: Score, dtype: int64"
      ]
     },
     "execution_count": 111,
     "metadata": {},
     "output_type": "execute_result"
    }
   ],
   "source": [
    "scores=data1[\"Score\"]\n",
    "names=data1[\"Name\"]\n",
    "scores"
   ]
  },
  {
   "cell_type": "code",
   "execution_count": 77,
   "id": "f933d3f1",
   "metadata": {},
   "outputs": [
    {
     "data": {
      "text/plain": [
       "50.1578947368421"
      ]
     },
     "execution_count": 77,
     "metadata": {},
     "output_type": "execute_result"
    }
   ],
   "source": [
    "import math\n",
    "avgscore=scores.mean()\n",
    "avgscore\n"
   ]
  },
  {
   "cell_type": "code",
   "execution_count": 105,
   "id": "9f17abc8",
   "metadata": {},
   "outputs": [
    {
     "data": {
      "text/plain": [
       "50"
      ]
     },
     "execution_count": 105,
     "metadata": {},
     "output_type": "execute_result"
    }
   ],
   "source": [
    "avgscore1=int(avgscore)\n",
    "avgscore1"
   ]
  },
  {
   "cell_type": "code",
   "execution_count": 130,
   "id": "a7d0a2ec",
   "metadata": {},
   "outputs": [
    {
     "name": "stdout",
     "output_type": "stream",
     "text": [
      "Students who scored above the average:\n"
     ]
    },
    {
     "ename": "TypeError",
     "evalue": "'>' not supported between instances of 'str' and 'int'",
     "output_type": "error",
     "traceback": [
      "\u001b[1;31m---------------------------------------------------------------------------\u001b[0m",
      "\u001b[1;31mTypeError\u001b[0m                                 Traceback (most recent call last)",
      "Input \u001b[1;32mIn [130]\u001b[0m, in \u001b[0;36m<cell line: 5>\u001b[1;34m()\u001b[0m\n\u001b[0;32m      3\u001b[0m     scores\u001b[38;5;241m=\u001b[39m []\n\u001b[0;32m      5\u001b[0m \u001b[38;5;28;01mfor\u001b[39;00m scores \u001b[38;5;129;01min\u001b[39;00m data1:\n\u001b[1;32m----> 6\u001b[0m      \u001b[38;5;28;01mif\u001b[39;00m \u001b[43mscores\u001b[49m\u001b[38;5;241;43m>\u001b[39;49m\u001b[43mavgscore1\u001b[49m:\n\u001b[0;32m      7\u001b[0m         \u001b[38;5;28mprint\u001b[39m(\u001b[38;5;124m\"\u001b[39m\u001b[38;5;124mabove average\u001b[39m\u001b[38;5;124m\"\u001b[39m,scores)\n",
      "\u001b[1;31mTypeError\u001b[0m: '>' not supported between instances of 'str' and 'int'"
     ]
    }
   ],
   "source": [
    "print(\"Students who scored above the average:\")\n",
    "def aboveaveragescore():\n",
    "    scores= []\n",
    "    \n",
    "for scores in data1:\n",
    "     if scores>avgscore1:\n",
    "        print(\"above average\",scores)\n",
    "    "
   ]
  },
  {
   "cell_type": "markdown",
   "id": "0e2f26d5",
   "metadata": {},
   "source": [
    "## Challenge 6 - Class Inheritance (Complex)\n",
    "Design a hierarchy of Python classes representing various types of vehicles (e.g., Car,\n",
    "Bicycle, Motorcycle). Define common attributes and methods for all vehicles, and then\n",
    "implement subclass-specific methods (e.g., 'start_engine' for cars, 'pedal' for bicycles)"
   ]
  },
  {
   "cell_type": "code",
   "execution_count": 131,
   "id": "b7d22da0",
   "metadata": {},
   "outputs": [
    {
     "name": "stdout",
     "output_type": "stream",
     "text": [
      "The  Honda City 2023 engine is running.\n",
      "The car is using petrol fuel.\n",
      "The  Honda City 2023 is driving.\n",
      "The  Honda City 2023 engine is stopped.\n",
      "The  Hero bicycle 2023 is being pedalled.\n",
      "The  BMW 310R 2021 engine is running.\n",
      "The motorcycle's engine is running.\n",
      "The  BMW 310R 2021 engine is stopped.\n"
     ]
    }
   ],
   "source": [
    "#The base class vehicle is defined with its attributes like company, name, year\n",
    "class Vehicle:\n",
    "    def __init__(self, company, name, year):\n",
    "        self.company= company\n",
    "        self.name= name\n",
    "        self.year = year\n",
    "        self.engine_started = False\n",
    "\n",
    "    def start_engine(self):\n",
    "        self.engine_started = True\n",
    "        print(f\"The  {self.company} {self.name} {self.year} engine is running.\")\n",
    "\n",
    "    def stop_engine(self):\n",
    "        self.engine_started = False\n",
    "        print(f\"The  {self.company} {self.name} {self.year} engine is stopped.\")\n",
    "\n",
    "#subclasses car, bicycle and motorcycle is defined.\n",
    "   \n",
    "class Car(Vehicle):\n",
    "    def __init__(self, company, name, year, fuel_type):\n",
    "        super().__init__(company, name, year)\n",
    "        self.fuel_type = fuel_type\n",
    "\n",
    "    def start_engine(self):\n",
    "        super().start_engine()\n",
    "        print(f\"The car is using {self.fuel_type} fuel.\")\n",
    "\n",
    "    def drive(self):\n",
    "         print(f\"The  {self.company} {self.name} {self.year} is driving.\")\n",
    "\n",
    "class Bicycle(Vehicle):\n",
    "    def __init__(self, company,name, year):\n",
    "        super().__init__(company,name, year)\n",
    "\n",
    "    def pedal(self):\n",
    "         print(f\"The  {self.company} {self.name} {self.year} is being pedalled.\")\n",
    "\n",
    "class Motorcycle(Vehicle):\n",
    "    def __init__(self, company,name, year):\n",
    "        super().__init__(company, name, year)\n",
    "\n",
    "    def start_engine(self):\n",
    "        super().start_engine()\n",
    "        print(f\"The motorcycle's engine is running.\")\n",
    "\n",
    "   \n",
    "\n",
    "\n",
    "car = Car(\"Honda\", \"City\", 2023, \"petrol\")\n",
    "car.start_engine()\n",
    "car.drive()\n",
    "\n",
    "car.stop_engine()\n",
    "\n",
    "bike = Bicycle(\"Hero\",\"bicycle\",2023)\n",
    "bike.pedal()\n",
    "\n",
    "\n",
    "motorcycle = Motorcycle(\"BMW\",\"310R\",2021)\n",
    "motorcycle.start_engine()\n",
    "\n",
    "motorcycle.stop_engine()\n"
   ]
  },
  {
   "cell_type": "markdown",
   "id": "de114935",
   "metadata": {},
   "source": [
    "## Challenge 7 - Working with Lists and 'random' Library\n",
    "Write a Python program that generates a random list of numbers, sorts the list in ascending\n",
    "order, and calculates the median of the numbers. Import and use the 'random' library.\n"
   ]
  },
  {
   "cell_type": "code",
   "execution_count": 98,
   "id": "9d863566",
   "metadata": {},
   "outputs": [
    {
     "name": "stdout",
     "output_type": "stream",
     "text": [
      "Random List: [18, 16, 4, 96, 72, 53, 76, 21, 38, 31]\n",
      "Sorted List: [4, 16, 18, 21, 31, 38, 53, 72, 76, 96]\n",
      "Median: 34.5\n"
     ]
    }
   ],
   "source": [
    "import random\n",
    "import statistics\n",
    "\n",
    "#Function to generate a random list of numbers\n",
    "def random_list(length, min_value, max_value):\n",
    "    random_list = [random.randint(min_value, max_value) for _ in range(length)]\n",
    "    return random_list\n",
    "\n",
    "#Function to calculate the median of the random list\n",
    "def calculate_median(numbers):\n",
    "    return statistics.median(numbers)\n",
    "\n",
    "#Specify the parameters for the random list\n",
    "list_length = 10 \n",
    "min_value = 1\n",
    "max_value = 100\n",
    "\n",
    "#Generate the random list\n",
    "random_numbers = random_list(list_length, min_value, max_value)\n",
    "\n",
    "#The list in ascending order\n",
    "asc_order_numbers = sorted(random_numbers)\n",
    "\n",
    "#Calculate and print the median\n",
    "median = calculate_median(asc_order_numbers)\n",
    "print(\"Random List:\", random_numbers)\n",
    "print(\"Sorted List:\", asc_order_numbers)\n",
    "print(\"Median:\", median)\n"
   ]
  },
  {
   "cell_type": "markdown",
   "id": "dd00b7cf",
   "metadata": {},
   "source": [
    "## Challenge 8 - Text Processing with 'string' Library\n",
    "Create a Python function that takes a string as input, removes all punctuation characters\n",
    "(e.g., '.', ',', '?'), and returns the cleaned string. Use the 'string' library to access punctuation\n",
    "characters.\n"
   ]
  },
  {
   "cell_type": "code",
   "execution_count": 21,
   "id": "820eb0f5",
   "metadata": {},
   "outputs": [],
   "source": [
    "import string"
   ]
  },
  {
   "cell_type": "code",
   "execution_count": 27,
   "id": "3bc514f6",
   "metadata": {},
   "outputs": [
    {
     "name": "stdout",
     "output_type": "stream",
     "text": [
      "The original sentence is : Wait. What does that mean!?\n",
      "The sentence after removing punctuations is  : Wait What does that mean\n"
     ]
    }
   ],
   "source": [
    "# initializing string\n",
    "test_sentence = \"Wait. What does that mean!?\"\n",
    " \n",
    "# printing original string\n",
    "print(\"The original sentence is : \" + test_sentence)\n",
    " \n",
    "# initializing punctuations string\n",
    "punc = '''.,!?'''\n",
    " \n",
    "# Removing punctuations in string\n",
    "# Using for loop\n",
    "for e in test_sentence:\n",
    "    if e in punc:\n",
    "        test_sentence = test_sentence.replace(e, \"\")\n",
    " \n",
    "# printing result\n",
    "print(\"The sentence after removing punctuations is  : \" + test_sentence)"
   ]
  }
 ],
 "metadata": {
  "kernelspec": {
   "display_name": "Python 3 (ipykernel)",
   "language": "python",
   "name": "python3"
  },
  "language_info": {
   "codemirror_mode": {
    "name": "ipython",
    "version": 3
   },
   "file_extension": ".py",
   "mimetype": "text/x-python",
   "name": "python",
   "nbconvert_exporter": "python",
   "pygments_lexer": "ipython3",
   "version": "3.9.12"
  }
 },
 "nbformat": 4,
 "nbformat_minor": 5
}
