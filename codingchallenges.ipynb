{
 "cells": [
  {
   "cell_type": "markdown",
   "id": "57b7c68b",
   "metadata": {},
   "source": [
    "## Challenge 1 - Function Basics\n",
    "Write a Python function named 'sum_even_numbers' that takes a list of numbers as input\n",
    "and returns the sum of all the even numbers in the list."
   ]
  },
  {
   "cell_type": "code",
   "execution_count": 4,
   "id": "f619007a",
   "metadata": {},
   "outputs": [
    {
     "name": "stdout",
     "output_type": "stream",
     "text": [
      "Sum of even numbers is  42\n"
     ]
    }
   ],
   "source": [
    "#defining the sum_even_numbers function\n",
    "def sum_even_numbers(num):\n",
    "    # Initialize a variable to store the sum of even numbers\n",
    "    sum_of_even = 0\n",
    "    \n",
    "#for loop for checking and adding every number that is even\n",
    "    for number in num:\n",
    "#to check if the number is even\n",
    "        if number % 2 == 0:\n",
    "#adds every even number to the sum \n",
    "            sum_of_even += number\n",
    "    \n",
    "    return sum_of_even\n",
    "\n",
    "#input list of numbers\n",
    "list1 = [10,15,91,29,32]\n",
    "sum1 = sum_even_numbers(list1)\n",
    "print(\"Sum of even numbers is \", sum1)\n"
   ]
  },
  {
   "cell_type": "markdown",
   "id": "2adbc6ca",
   "metadata": {},
   "source": [
    "## Challenge 2 - Class Implementation\n",
    "Create a Python class called 'Rectangle' with methods to calculate its area and perimeter.\n",
    "Include a constructor that initializes the length and width."
   ]
  },
  {
   "cell_type": "code",
   "execution_count": 16,
   "id": "e981f9b4",
   "metadata": {},
   "outputs": [
    {
     "name": "stdout",
     "output_type": "stream",
     "text": [
      "Rectangle with length is 5 and width is 3:\n",
      "Area: 15\n",
      "Perimeter: 16\n"
     ]
    }
   ],
   "source": [
    "#defining the class rectangle and constructor that initialises length and width \n",
    "class Rectangle:\n",
    "    def __init__(self, l, w):\n",
    "        self.length = l\n",
    "        self.width = w\n",
    "\n",
    "    def rectangle_area(self):\n",
    "#to calculate the area of rectangle\n",
    "        area = self.length * self.width\n",
    "        return area\n",
    "#to calculate the perimeter of rectangle\n",
    "    def rectangle_perimeter(self):\n",
    "        perimeter = 2 * (self.length + self.width)\n",
    "        return perimeter\n",
    "\n",
    "#input length and width of rect\n",
    "l = 5\n",
    "w = 3\n",
    "rectangle = Rectangle(l, w)\n",
    "\n",
    "area = rectangle.rectangle_area()\n",
    "perimeter = rectangle.rectangle_perimeter()\n",
    "\n",
    "print(f\"Rectangle with length is {length} and width is {width}:\")\n",
    "print(f\"Area: {area}\")\n",
    "print(f\"Perimeter: {perimeter}\")\n"
   ]
  },
  {
   "cell_type": "markdown",
   "id": "19887e56",
   "metadata": {},
   "source": [
    "## Challenge 4 - Recursive Function\n",
    "Build a recursive Python function named 'calculate_factorial' to calculate the factorial of a\n",
    "positive integer.\n",
    "\n"
   ]
  },
  {
   "cell_type": "code",
   "execution_count": 19,
   "id": "09a160c1",
   "metadata": {},
   "outputs": [
    {
     "name": "stdout",
     "output_type": "stream",
     "text": [
      "The factorial of 7 is 5040\n"
     ]
    }
   ],
   "source": [
    "def calculate_factorial(n):\n",
    "#the factorial of 0 and 1 is 1 \n",
    "    if n == 0 or n == 1:\n",
    "        return 1\n",
    "#multiplying the number n by (n-1) and so on to calculate the factorial\n",
    "    else:\n",
    "        return n * calculate_factorial(n - 1)\n",
    "\n",
    "\n",
    "n = 7\n",
    "result = calculate_factorial(n)\n",
    "print(f\"The factorial of {n} is {result}\")\n"
   ]
  },
  {
   "cell_type": "markdown",
   "id": "de114935",
   "metadata": {},
   "source": [
    "## Challenge 7 - Working with Lists and 'random' Library\n",
    "Write a Python program that generates a random list of numbers, sorts the list in ascending\n",
    "order, and calculates the median of the numbers. Import and use the 'random' library.\n"
   ]
  },
  {
   "cell_type": "code",
   "execution_count": 98,
   "id": "9d863566",
   "metadata": {},
   "outputs": [
    {
     "name": "stdout",
     "output_type": "stream",
     "text": [
      "Random List: [18, 16, 4, 96, 72, 53, 76, 21, 38, 31]\n",
      "Sorted List: [4, 16, 18, 21, 31, 38, 53, 72, 76, 96]\n",
      "Median: 34.5\n"
     ]
    }
   ],
   "source": [
    "import random\n",
    "import statistics\n",
    "\n",
    "#Function to generate a random list of numbers\n",
    "def random_list(length, min_value, max_value):\n",
    "    random_list = [random.randint(min_value, max_value) for _ in range(length)]\n",
    "    return random_list\n",
    "\n",
    "#Function to calculate the median of the random list\n",
    "def calculate_median(numbers):\n",
    "    return statistics.median(numbers)\n",
    "\n",
    "#Specify the parameters for the random list\n",
    "list_length = 10 \n",
    "min_value = 1\n",
    "max_value = 100\n",
    "\n",
    "#Generate the random list\n",
    "random_numbers = random_list(list_length, min_value, max_value)\n",
    "\n",
    "#The list in ascending order\n",
    "asc_order_numbers = sorted(random_numbers)\n",
    "\n",
    "#Calculate and print the median\n",
    "median = calculate_median(asc_order_numbers)\n",
    "print(\"Random List:\", random_numbers)\n",
    "print(\"Sorted List:\", asc_order_numbers)\n",
    "print(\"Median:\", median)\n"
   ]
  }
 ],
 "metadata": {
  "kernelspec": {
   "display_name": "Python 3 (ipykernel)",
   "language": "python",
   "name": "python3"
  },
  "language_info": {
   "codemirror_mode": {
    "name": "ipython",
    "version": 3
   },
   "file_extension": ".py",
   "mimetype": "text/x-python",
   "name": "python",
   "nbconvert_exporter": "python",
   "pygments_lexer": "ipython3",
   "version": "3.9.12"
  }
 },
 "nbformat": 4,
 "nbformat_minor": 5
}
